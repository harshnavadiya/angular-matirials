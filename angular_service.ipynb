{
  "nbformat": 4,
  "nbformat_minor": 0,
  "metadata": {
    "colab": {
      "name": "angular service",
      "version": "0.3.2",
      "provenance": [],
      "collapsed_sections": [],
      "include_colab_link": true
    },
    "kernelspec": {
      "name": "python3",
      "display_name": "Python 3"
    }
  },
  "cells": [
    {
      "cell_type": "markdown",
      "metadata": {
        "id": "view-in-github",
        "colab_type": "text"
      },
      "source": [
        "<a href=\"https://colab.research.google.com/github/harshnavadiya/angular-matirials/blob/master/angular_service.ipynb\" target=\"_parent\"><img src=\"https://colab.research.google.com/assets/colab-badge.svg\" alt=\"Open In Colab\"/></a>"
      ]
    },
    {
      "cell_type": "code",
      "metadata": {
        "id": "O1xNGkVK87gs",
        "colab_type": "code",
        "colab": {}
      },
      "source": [
        ""
      ],
      "execution_count": 0,
      "outputs": []
    },
    {
      "cell_type": "markdown",
      "metadata": {
        "id": "50E735GO8_qQ",
        "colab_type": "text"
      },
      "source": [
        ""
      ]
    },
    {
      "cell_type": "code",
      "metadata": {
        "id": "plQS-1KC9AEj",
        "colab_type": "code",
        "colab": {}
      },
      "source": [
        "npm install --save @angular/material @angular/cdk\n",
        "npm install --save @angular/animations"
      ],
      "execution_count": 0,
      "outputs": []
    },
    {
      "cell_type": "code",
      "metadata": {
        "id": "ChmDOIxm9LSl",
        "colab_type": "code",
        "colab": {}
      },
      "source": [
        "import {\n",
        " BrowserAnimationsModule\n",
        "} from '@angular/platform-browser/animations';\n",
        "import {\n",
        " MatAutocompleteModule,\n",
        " MatButtonModule,\n",
        " MatButtonToggleModule,\n",
        " MatCardModule,\n",
        " MatCheckboxModule,\n",
        " MatChipsModule,\n",
        " MatDatepickerModule,\n",
        " MatDialogModule,\n",
        " MatExpansionModule,\n",
        " MatGridListModule,\n",
        " MatIconModule,\n",
        " MatInputModule,\n",
        " MatListModule,\n",
        " MatMenuModule,\n",
        " MatNativeDateModule,\n",
        " MatPaginatorModule,\n",
        " MatProgressBarModule,\n",
        " MatProgressSpinnerModule,\n",
        " MatRadioModule,\n",
        " MatRippleModule,\n",
        " MatSelectModule,\n",
        " MatSidenavModule,\n",
        " MatSliderModule,\n",
        " MatSlideToggleModule,\n",
        " MatSnackBarModule,\n",
        " MatSortModule,\n",
        " MatTableModule,\n",
        " MatTabsModule,\n",
        " MatToolbarModule,\n",
        " MatTooltipModule,\n",
        " MatStepperModule,\n",
        "\n",
        "} from '@angular/material';\n",
        "\n",
        "\n",
        "\n",
        "\n",
        "imports: [BrowserAnimationsModule,\n",
        " MatAutocompleteModule,\n",
        " MatButtonModule,\n",
        " MatButtonToggleModule,\n",
        " MatCardModule,\n",
        " MatCheckboxModule,\n",
        " MatChipsModule,\n",
        " MatDatepickerModule,\n",
        " MatDialogModule,\n",
        " MatExpansionModule,\n",
        " MatGridListModule,\n",
        " MatIconModule,\n",
        " MatInputModule,\n",
        " MatListModule,\n",
        " MatMenuModule,\n",
        " MatNativeDateModule,\n",
        " MatPaginatorModule,\n",
        " MatProgressBarModule,\n",
        " MatProgressSpinnerModule,\n",
        " MatRadioModule,\n",
        " MatRippleModule,\n",
        " MatSelectModule,\n",
        " MatSidenavModule,\n",
        " MatSliderModule,\n",
        " MatSlideToggleModule,\n",
        " MatSnackBarModule,\n",
        " MatSortModule,\n",
        " MatTableModule,\n",
        " MatTabsModule,\n",
        " MatToolbarModule,\n",
        " MatTooltipModule,\n",
        " MatStepperModule,\n",
        "\n",
        "],"
      ],
      "execution_count": 0,
      "outputs": []
    },
    {
      "cell_type": "markdown",
      "metadata": {
        "id": "y_VeX4pm9mbN",
        "colab_type": "text"
      },
      "source": [
        "in style.css add line "
      ]
    },
    {
      "cell_type": "code",
      "metadata": {
        "id": "XXZzqhTb9nkZ",
        "colab_type": "code",
        "colab": {}
      },
      "source": [
        "@import \"~@angular/material/prebuilt-themes/indigo-pink.css\";\n",
        "npm install --save hammerjs\n",
        "import 'hammerjs';"
      ],
      "execution_count": 0,
      "outputs": []
    },
    {
      "cell_type": "markdown",
      "metadata": {
        "id": "WXQRNYqr925M",
        "colab_type": "text"
      },
      "source": [
        "add matirial icon in index.html"
      ]
    },
    {
      "cell_type": "code",
      "metadata": {
        "id": "kxSmbaJx95RK",
        "colab_type": "code",
        "colab": {}
      },
      "source": [
        "<link href=\"https://fonts.googleapis.com/icon?family=Material+Icons\" rel=\"stylesheet\">"
      ],
      "execution_count": 0,
      "outputs": []
    },
    {
      "cell_type": "markdown",
      "metadata": {
        "id": "PsQ5oZT79sAB",
        "colab_type": "text"
      },
      "source": [
        "install flex-layout"
      ]
    },
    {
      "cell_type": "code",
      "metadata": {
        "id": "RtJ97L2N-Dg7",
        "colab_type": "code",
        "colab": {}
      },
      "source": [
        "npm i @angular/flex-layout --save\n",
        "import in module.ts import { FlexLayoutModule } from '@angular/flex-layout'; \n",
        "import:[FlexLayoutModule]"
      ],
      "execution_count": 0,
      "outputs": []
    },
    {
      "cell_type": "markdown",
      "metadata": {
        "id": "t9zU0hRZ-Myl",
        "colab_type": "text"
      },
      "source": [
        "add other libraries like:----- "
      ]
    },
    {
      "cell_type": "code",
      "metadata": {
        "id": "9HexIlBu-QZi",
        "colab_type": "code",
        "colab": {}
      },
      "source": [
        "import {\n",
        " FormsModule,\n",
        " ReactiveFormsModule\n",
        "} from '@angular/forms';\n",
        "import {\n",
        " Route,\n",
        " RouterModule\n",
        "} from '@angular/router';\n",
        "import {\n",
        " HttpModule\n",
        "} from '@angular/http';\n",
        "\n",
        "import: [\n",
        " FormsModule,\n",
        " HttpModule,\n",
        " RouterModule\n",
        "]"
      ],
      "execution_count": 0,
      "outputs": []
    },
    {
      "cell_type": "markdown",
      "metadata": {
        "id": "48qw6N24-ZOb",
        "colab_type": "text"
      },
      "source": [
        "careate routing :----"
      ]
    },
    {
      "cell_type": "code",
      "metadata": {
        "id": "9x-D21gB-fYa",
        "colab_type": "code",
        "colab": {}
      },
      "source": [
        "ng g module web - routing\n",
        "\n",
        "open web - routing.ts\n",
        "1) add;\n",
        "import {\n",
        " Routes,\n",
        " RouterModule\n",
        "} from '@angular/router';\n",
        "const routes: Routes = [\n",
        "\n",
        " {\n",
        "\n",
        "  path: '',\n",
        "  component: BaseManagement\n",
        " },\n",
        "];\n",
        "import: [\n",
        " RouterModule.forRoot(routes)\n",
        "]\n",
        "\n",
        "now\n",
        "2) add in app.module.ts\n",
        "import {\n",
        " WebRoutingModule\n",
        "} from './web-routing/web-routing.module';\n",
        "\n",
        "import: [\n",
        " WebRoutingModule\n",
        "\n",
        "];\n",
        "3) add app.component.html in remove all and add it \n",
        "<router - outlet > < /router-outlet>"
      ],
      "execution_count": 0,
      "outputs": []
    },
    {
      "cell_type": "markdown",
      "metadata": {
        "id": "WuG7JAse9BO1",
        "colab_type": "text"
      },
      "source": [
        "add base component"
      ]
    },
    {
      "cell_type": "code",
      "metadata": {
        "id": "zHdKeAzm-3RK",
        "colab_type": "code",
        "colab": {}
      },
      "source": [
        "<section class=\"app flex-container\" fxLayout=\"column\" fxLayoutAlign=\"start stretch\">\n",
        "\t<!-- this flex item takes the rest of the screen in height -->\n",
        "\t<mat-sidenav-container fxFlex>\n",
        "\t\t<mat-sidenav #sidenav mode=\"side\" opened class=\" mat-elevation-z4\" fxLayout=\"column\">\n",
        "\t\t\t<div class=\"header-nav\">\n",
        "\t\t\t\t<h1 align=\"center\">Collage</h1>\n",
        "\t\t\t</div>\n",
        "\t\t\t<section class=\"flex-containers\">\n",
        "\t\t\t\t<section class=\"flex-items\">\n",
        "\t\t\t\t\t<mat-expansion-panel>\n",
        "\t\t\t\t\t\t<mat-expansion-panel-header>\n",
        "\t\t\t\t\t\t\t<mat-panel-title>\n",
        "\t\t\t\t\t\t\t\t<mat-icon class=\"md-18 example-icon\">dashboard</mat-icon>\t<span>Dashboard</span>\n",
        "\t\t\t\t\t\t\t</mat-panel-title>\n",
        "\t\t\t\t\t\t</mat-expansion-panel-header>\n",
        "\t\t\t\t\t</mat-expansion-panel>\n",
        "\t\t\t\t\t<!-- <mat-expansion-panel>\n",
        "\t\t\t\t\t\t\t\t\t\t\t  <mat-expansion-panel-header>\n",
        "\t\t\t\t\t\t\t\t\t\t\t\t  <mat-panel-title>\n",
        "\t\t\t\t\t\t\t\t\t\t\t\t\t  <mat-icon class=\"md-18 example-icon\" fxFlex>person</mat-icon>\n",
        "\t\t\t\t\t\t\t\t\t\t\t\t\t  <span>Teacher</span>\n",
        "\t\t\t\t\t\t\t\t\t\t\t\t  </mat-panel-title>\n",
        "\t\t\t\t\t\t\t\t\t\t\t\t  <mat-panel-description>\n",
        "\t\t\t\t\t\t\t\t\t\t\t\t  </mat-panel-description>\n",
        "\t\t\t\t\t\t\t\t\t\t\t  </mat-expansion-panel-header>\n",
        "\t\t\t\t\t\t\t\t\t\t\t  <mat-nav-list>\n",
        "\t\t\t\t\t\t\t\t\t\t\t\t  <mat-list-item>\n",
        "\t\t\t\t\t\t\t\t\t\t\t\t\t  <a matLine routerLink=\"/add-teacher\" routerLinkActive=\"active\">\n",
        "\t\t\t\t\t\t\t\t\t\t\t\t\t\t  <span>Add Teacher</span>\n",
        "\t\t\t\t\t\t\t\t\t\t\t\t\t  </a>\n",
        "\t\t\t\t\t\t\t\t\t\t\t\t  </mat-list-item>\n",
        "\t\t\t\t\t\t\t\t\t\t\t  </mat-nav-list>\n",
        "\t\t\t\t\t\t\t\t\t\t\t  <mat-nav-list>\n",
        "\t\t\t\t\t\t\t\t\t\t\t\t  <mat-list-item>\n",
        "\t\t\t\t\t\t\t\t\t\t\t\t\t  <a matLine routerLink=\"/teacher-list\" routerLinkActive=\"active\">\n",
        "\t\t\t\t\t\t\t\t\t\t\t\t\t\t  <span>Search Teacher</span>\n",
        "\t\t\t\t\t\t\t\t\t\t\t\t\t  </a>\n",
        "\t\t\t\t\t\t\t\t\t\t\t\t  </mat-list-item>\n",
        "\t\t\t\t\t\t\t\t\t\t\t  </mat-nav-list>\n",
        "\t\t\t\t\t\t\t\t\t\t  </mat-expansion-panel> -->\n",
        "\t\t\t\t</section>\n",
        "\t\t\t</section>\n",
        "\t\t</mat-sidenav>\n",
        "\t\t<section>\n",
        "\t\t\t<section class=\"data\">\n",
        "\t\t\t\t<!-- <section class=\"flex-container\"> -->\n",
        "\t\t\t\t<mat-toolbar class=\" mat-elevation-z4\">\n",
        "\t\t\t\t\t<button mat-icon-button (click)=\"sidenav.toggle()\">\n",
        "\t\t\t\t\t\t<mat-icon>menu</mat-icon>\n",
        "\t\t\t\t\t</button>\t<span class=\"example-spacer\"></span>\n",
        "\t\t\t\t\t<button mat-icon-button class=\"icon\" (click)=\"logout()\">\n",
        "\t\t\t\t\t\t<mat-icon>power_settings_new</mat-icon>\n",
        "\t\t\t\t\t</button>\n",
        "\t\t\t\t</mat-toolbar>\n",
        "\t\t\t</section>\n",
        "\t\t\t<router-outlet></router-outlet>\n",
        "\t\t</section>\n",
        "\t</mat-sidenav-container>\n",
        "</section>2:------/ base-management.css body { padding: 0; margin: 0; font-family: Roboto, sans-serif; } .app { height: 97.9vh; overflow: auto; } .data { flex-direction: row; flex-flow: inherit; height: max-content; } mat-toolbar { background-color: rgb(90, 212, 206); z-index: 10; height: 50px; } button { outline: none; } mat-sidenav { flex-flow: nowrap; flex: 0 0 auto; overflow-y: auto; display: flex; } .z-depth-2 { box-shadow: 0 4px 5px 0 rgba(0, 0, 0, 0.14), 0 1px 10px 0 rgba(0, 0, 0, 0.12), 0 2px 4px -1px rgba(0, 0, 0, 0.3); z-index: 15000; } .example-spacer { flex: 1 1 auto; } .example-icon { padding-right: 5px; } a { text-decoration-color: black; text-decoration-line: none; -webkit-text-fill-color: black; } .flex-item { flex: 1 1 auto; align-self: auto; width: calc(100% - 10px); padding: 10px; padding-right: 2px } .flex-items { flex: 1 1 auto; align-self: auto; width: calc(100% - 10px); padding: 5px; } .flex-containers { display: flex; flex-direction: row; flex-wrap: nowrap; justify-content: flex-start; align-content: stretch; align-items: flex-start; padding: 10px; height: max-content; } .cont { background-color: white; } .hei { height: 100% } mat-sidenav { overflow: hidden; } mat-sidenav:hover { overflow-y: scroll; } .header-nav { background-color: rgb(90, 212, 206); } now ng serve"
      ],
      "execution_count": 0,
      "outputs": []
    },
    {
      "cell_type": "code",
      "metadata": {
        "id": "ASLLKP6n_9Eh",
        "colab_type": "code",
        "colab": {}
      },
      "source": [
        ""
      ],
      "execution_count": 0,
      "outputs": []
    },
    {
      "cell_type": "markdown",
      "metadata": {
        "id": "J7Yp_1u6_-Th",
        "colab_type": "text"
      },
      "source": [
        "Service http"
      ]
    },
    {
      "cell_type": "code",
      "metadata": {
        "id": "LONJ51EP__lQ",
        "colab_type": "code",
        "colab": {}
      },
      "source": [
        "constructor(private http:Http ) { }\n",
        "\n",
        "  webAction(serviceName: string, parameter: any) {\n",
        "    return this.http.post(Common.baseUrl + serviceName, parameter).map(data => data.json()).toPromise();\n",
        "  }\n",
        "\n",
        "  webDelete(serviceName: string, parameter: CommonDelete) {\n",
        "    return this.http.post(Common.baseUrl + serviceName, parameter).map(data => data.json()).toPromise();\n",
        "  }"
      ],
      "execution_count": 0,
      "outputs": []
    },
    {
      "cell_type": "markdown",
      "metadata": {
        "id": "O4BMLx6eBDn_",
        "colab_type": "text"
      },
      "source": [
        "guard "
      ]
    },
    {
      "cell_type": "code",
      "metadata": {
        "id": "ZrjItRDOBL3c",
        "colab_type": "code",
        "colab": {}
      },
      "source": [
        "export class WebguardGuard implements CanActivate {\n",
        "  constructor(private router: Router){}\n",
        "  canActivate(\n",
        "    next: ActivatedRouteSnapshot,\n",
        "    state: RouterStateSnapshot) {\n",
        "\n",
        "    if (localStorage.getItem('user_id')) {\n",
        "      return true;\n",
        "    }\n",
        "    Common.Dlog(state.url);\n",
        "    this.router.navigate(['/login'], { queryParams: { returnUrl: state.url }});\n",
        "    return false;\n",
        "  }\n",
        "}"
      ],
      "execution_count": 0,
      "outputs": []
    },
    {
      "cell_type": "markdown",
      "metadata": {
        "id": "jok1U1K-BQka",
        "colab_type": "text"
      },
      "source": [
        "routing"
      ]
    },
    {
      "cell_type": "code",
      "metadata": {
        "id": "dvzbmF4lBR2t",
        "colab_type": "code",
        "colab": {}
      },
      "source": [
        "const routes: Routes = [\n",
        "  {\n",
        "    path:'login',\n",
        "    component:LoginManagementComponent\n",
        "  },\n",
        "  \n",
        "  {\n",
        "  path:'',\n",
        "  component: BaseManagementComponent,\n",
        "  canActivate:[WebguardGuard],\n",
        "       \n",
        "  children: [{\n",
        "    path:'',\n",
        "    component:DashboardComponent\n",
        "  },{\n",
        "    path:'status',\n",
        "    component:StatusManagementComponent\n",
        "  }\n",
        "  ]\n",
        "  }]"
      ],
      "execution_count": 0,
      "outputs": []
    }
  ]
}